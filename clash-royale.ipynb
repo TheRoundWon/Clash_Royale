{
 "cells": [
  {
   "cell_type": "code",
   "execution_count": 36,
   "metadata": {},
   "outputs": [
    {
     "ename": "ModuleNotFoundError",
     "evalue": "No module named 'requests_toolbelt'",
     "output_type": "error",
     "traceback": [
      "\u001b[0;31m---------------------------------------------------------------------------\u001b[0m",
      "\u001b[0;31mModuleNotFoundError\u001b[0m                       Traceback (most recent call last)",
      "\u001b[0;32m<ipython-input-36-00525e579861>\u001b[0m in \u001b[0;36m<module>\u001b[0;34m\u001b[0m\n\u001b[1;32m      4\u001b[0m \u001b[0;32mfrom\u001b[0m \u001b[0mIPython\u001b[0m\u001b[0;34m.\u001b[0m\u001b[0mcore\u001b[0m\u001b[0;34m.\u001b[0m\u001b[0mdisplay\u001b[0m \u001b[0;32mimport\u001b[0m \u001b[0mdisplay\u001b[0m\u001b[0;34m,\u001b[0m \u001b[0mHTML\u001b[0m\u001b[0;34m\u001b[0m\u001b[0;34m\u001b[0m\u001b[0m\n\u001b[1;32m      5\u001b[0m \u001b[0;32mimport\u001b[0m \u001b[0mjson\u001b[0m\u001b[0;34m\u001b[0m\u001b[0;34m\u001b[0m\u001b[0m\n\u001b[0;32m----> 6\u001b[0;31m \u001b[0;32mfrom\u001b[0m \u001b[0mrequests_toolbelt\u001b[0m\u001b[0;34m.\u001b[0m\u001b[0mutils\u001b[0m \u001b[0;32mimport\u001b[0m \u001b[0mdump\u001b[0m\u001b[0;34m\u001b[0m\u001b[0;34m\u001b[0m\u001b[0m\n\u001b[0m",
      "\u001b[0;31mModuleNotFoundError\u001b[0m: No module named 'requests_toolbelt'"
     ]
    }
   ],
   "source": [
    "import requests\n",
    "from dotenv import load_dotenv\n",
    "import os\n",
    "from IPython.core.display import display, HTML\n",
    "import json\n"
   ]
  },
  {
   "cell_type": "code",
   "execution_count": 77,
   "metadata": {},
   "outputs": [],
   "source": [
    "r = requests.get(\"https://api.clashroyale.com/v1/\", headers={'Authorization': \"Bearer \" + os.environ['CLASH_ROYALE_API'], 'Content-Type': 'application/json'}, json={'players': \"%23GC88R8VR8\"})\n"
   ]
  },
  {
   "cell_type": "code",
   "execution_count": 127,
   "metadata": {},
   "outputs": [],
   "source": [
    "\n",
    "r = requests.get(\"https://api.clashroyale.com/v1/players/%23GC88R8VR8/battlelog\", headers={'Authorization': \"Bearer \" + os.environ['CLASH_ROYALE_API'], 'Content-Type': 'application/json'})"
   ]
  },
  {
   "cell_type": "code",
   "execution_count": 91,
   "metadata": {},
   "outputs": [],
   "source": [
    "r = requests.get(\"https://api.clashroyale.com/v1/\", headers={'Authorization': \"Bearer \" + os.environ['CLASH_ROYALE_API'], 'Content-Type': 'application/json'}, params=[('players', \"%23GC88R8VR8\")])\n"
   ]
  },
  {
   "cell_type": "code",
   "execution_count": null,
   "metadata": {},
   "outputs": [],
   "source": [
    "output = r.json()"
   ]
  },
  {
   "cell_type": "code",
   "execution_count": 128,
   "metadata": {},
   "outputs": [],
   "source": [
    "output2 = r.json()"
   ]
  },
  {
   "cell_type": "code",
   "execution_count": 130,
   "metadata": {},
   "outputs": [
    {
     "data": {
      "text/plain": [
       "28"
      ]
     },
     "execution_count": 130,
     "metadata": {},
     "output_type": "execute_result"
    }
   ],
   "source": [
    "len(output2)"
   ]
  },
  {
   "cell_type": "code",
   "execution_count": 140,
   "metadata": {},
   "outputs": [
    {
     "data": {
      "text/plain": [
       "8"
      ]
     },
     "execution_count": 140,
     "metadata": {},
     "output_type": "execute_result"
    }
   ],
   "source": [
    "len(output2[0]['team'][0]['cards'])"
   ]
  },
  {
   "cell_type": "code",
   "execution_count": 124,
   "metadata": {},
   "outputs": [
    {
     "data": {
      "text/plain": [
       "[{'name': 'Lightning',\n",
       "  'id': 28000007,\n",
       "  'level': 9,\n",
       "  'maxLevel': 9,\n",
       "  'count': 0,\n",
       "  'iconUrls': {'medium': 'https://api-assets.clashroyale.com/cards/300/fpnESbYqe5GyZmaVVYe-SEu7tE0Kxh_HZyVigzvLjks.png'}},\n",
       " {'name': 'Skeletons',\n",
       "  'id': 26000010,\n",
       "  'level': 14,\n",
       "  'starLevel': 2,\n",
       "  'maxLevel': 14,\n",
       "  'count': 0,\n",
       "  'iconUrls': {'medium': 'https://api-assets.clashroyale.com/cards/300/oO7iKMU5m0cdxhYPZA3nWQiAUh2yoGgdThLWB1rVSec.png'}},\n",
       " {'name': 'Zappies',\n",
       "  'id': 26000052,\n",
       "  'level': 12,\n",
       "  'starLevel': 2,\n",
       "  'maxLevel': 12,\n",
       "  'count': 0,\n",
       "  'iconUrls': {'medium': 'https://api-assets.clashroyale.com/cards/300/QZfHRpLRmutZbCr5fpLnTpIp89vLI6NrAwzGZ8tHEc4.png'}},\n",
       " {'name': 'Arrows',\n",
       "  'id': 28000001,\n",
       "  'level': 14,\n",
       "  'starLevel': 3,\n",
       "  'maxLevel': 14,\n",
       "  'count': 0,\n",
       "  'iconUrls': {'medium': 'https://api-assets.clashroyale.com/cards/300/Flsoci-Y6y8ZFVi5uRFTmgkPnCmMyMVrU7YmmuPvSBo.png'}},\n",
       " {'name': 'Princess',\n",
       "  'id': 26000026,\n",
       "  'level': 6,\n",
       "  'starLevel': 1,\n",
       "  'maxLevel': 6,\n",
       "  'count': 0,\n",
       "  'iconUrls': {'medium': 'https://api-assets.clashroyale.com/cards/300/bAwMcqp9EKVIKH3ZLm_m0MqZFSG72zG-vKxpx8aKoVs.png'}},\n",
       " {'name': 'Mega Knight',\n",
       "  'id': 26000055,\n",
       "  'level': 6,\n",
       "  'maxLevel': 6,\n",
       "  'count': 0,\n",
       "  'iconUrls': {'medium': 'https://api-assets.clashroyale.com/cards/300/O2NycChSNhn_UK9nqBXUhhC_lILkiANzPuJjtjoz0CE.png'}},\n",
       " {'name': 'Fire Spirit',\n",
       "  'id': 26000031,\n",
       "  'level': 14,\n",
       "  'maxLevel': 14,\n",
       "  'count': 0,\n",
       "  'iconUrls': {'medium': 'https://api-assets.clashroyale.com/cards/300/16-BqusVvynIgYI8_Jci3LDC-r8AI_xaIYLgXqtlmS8.png'}},\n",
       " {'name': 'Hog Rider',\n",
       "  'id': 26000021,\n",
       "  'level': 12,\n",
       "  'starLevel': 3,\n",
       "  'maxLevel': 12,\n",
       "  'count': 0,\n",
       "  'iconUrls': {'medium': 'https://api-assets.clashroyale.com/cards/300/Ubu0oUl8tZkusnkZf8Xv9Vno5IO29Y-jbZ4fhoNJ5oc.png'}}]"
      ]
     },
     "execution_count": 124,
     "metadata": {},
     "output_type": "execute_result"
    }
   ],
   "source": [
    "output['currentDeck']"
   ]
  },
  {
   "cell_type": "code",
   "execution_count": 122,
   "metadata": {},
   "outputs": [
    {
     "name": "stdout",
     "output_type": "stream",
     "text": [
      "{'name': 'Mega Knight', 'id': 26000055, 'level': 6, 'maxLevel': 6, 'count': 0, 'iconUrls': {'medium': 'https://api-assets.clashroyale.com/cards/300/O2NycChSNhn_UK9nqBXUhhC_lILkiANzPuJjtjoz0CE.png'}}\n"
     ]
    }
   ],
   "source": [
    "for card in output['cards']:\n",
    "    if card['name'] == 'Mega Knight':\n",
    "        print(card)"
   ]
  },
  {
   "cell_type": "code",
   "execution_count": 125,
   "metadata": {},
   "outputs": [
    {
     "data": {
      "text/plain": [
       "101"
      ]
     },
     "execution_count": 125,
     "metadata": {},
     "output_type": "execute_result"
    }
   ],
   "source": [
    "len(output['cards'])"
   ]
  },
  {
   "cell_type": "code",
   "execution_count": 126,
   "metadata": {},
   "outputs": [
    {
     "data": {
      "text/plain": [
       "8"
      ]
     },
     "execution_count": 126,
     "metadata": {},
     "output_type": "execute_result"
    }
   ],
   "source": [
    "len(output['currentDeck'])"
   ]
  },
  {
   "cell_type": "code",
   "execution_count": 98,
   "metadata": {},
   "outputs": [
    {
     "data": {
      "text/plain": [
       "8"
      ]
     },
     "execution_count": 98,
     "metadata": {},
     "output_type": "execute_result"
    }
   ],
   "source": [
    "len(output['currentDeck'])"
   ]
  }
 ],
 "metadata": {
  "interpreter": {
   "hash": "62a7eab1f23e4399ce5e8aca376c41ba18c28dbf6386fa73a1e20fbf997b9dae"
  },
  "kernelspec": {
   "display_name": "Python 3.8.8 ('base')",
   "language": "python",
   "name": "python3"
  },
  "language_info": {
   "codemirror_mode": {
    "name": "ipython",
    "version": 3
   },
   "file_extension": ".py",
   "mimetype": "text/x-python",
   "name": "python",
   "nbconvert_exporter": "python",
   "pygments_lexer": "ipython3",
   "version": "3.8.8"
  },
  "orig_nbformat": 4
 },
 "nbformat": 4,
 "nbformat_minor": 2
}
